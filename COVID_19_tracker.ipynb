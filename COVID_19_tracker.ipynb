{
  "nbformat": 4,
  "nbformat_minor": 0,
  "metadata": {
    "colab": {
      "name": "COVID-19 tracker",
      "provenance": [],
      "private_outputs": true,
      "collapsed_sections": [],
      "toc_visible": true,
      "authorship_tag": "ABX9TyNUfjAFNE9Xmm13xuVnB5O1",
      "include_colab_link": true
    },
    "kernelspec": {
      "name": "python3",
      "display_name": "Python 3"
    }
  },
  "cells": [
    {
      "cell_type": "markdown",
      "metadata": {
        "id": "view-in-github",
        "colab_type": "text"
      },
      "source": [
        "<a href=\"https://colab.research.google.com/github/sidbannet/COVID-19_analysis/blob/develop/COVID_19_tracker.ipynb\" target=\"_parent\"><img src=\"https://colab.research.google.com/assets/colab-badge.svg\" alt=\"Open In Colab\"/></a>"
      ]
    },
    {
      "cell_type": "markdown",
      "metadata": {
        "id": "ttxDgqG0wCbh",
        "colab_type": "text"
      },
      "source": [
        "# Author Bio\n",
        "\n",
        "[LinkedIn profile](https://www.linkedin.com/in/sidban)\n",
        "\n",
        "[Resume](https://docs.google.com/document/d/1uVc9le7LM2WMmGM4ub9w2uI1FY7I63h7SBxNGyIItWc/edit?usp=sharing)\n",
        "\n",
        "[GitHub](https://github.com/sidbannet?tab=repositories)\n",
        "\n",
        "---\n",
        "I develop **high-performance computation models** to understand *turbulence flow*, *multi-phase flow* and *combustion flames*. I apply **data-science** to accelerate design innovations in *propulsion* device.\n",
        "\n",
        "I received **PhD** from **University of Wisconsin - Madison** in 2011 with major in **Mechanical and Chemical Engineering** and distributed minor in *Mathamatics*, *Statistics* and *Computer Science*.\n",
        "\n",
        "I received recognitions for my work in clean propulsion innovation from [United States Deparment Of Energy](https://www.energy.gov/eere/vehicles/vehicle-technologies-office) and [Dr. Stephen Chu](https://en.wikipedia.org/wiki/Steven_Chu)."
      ]
    },
    {
      "cell_type": "markdown",
      "metadata": {
        "id": "ClysgQctcY-Z",
        "colab_type": "text"
      },
      "source": [
        "# About COVID-19 tracker\n",
        "\n",
        "\n",
        "---\n",
        "This is 2019 Novel Coronavirus Visual Dashboard operated by [Siddhartha Banerjee](https://www.linkedin.com/in/sidban) by using data published by the Johns Hopkins University Center for Systems Science and Engineering (JHU CSSE). Also, Supported by ESRI Living Atlas Team and the Johns Hopkins University Applied Physics Lab (JHU APL).\n",
        "\n",
        "**Data Sources**:\n",
        "\n",
        "World Health Organization (WHO): https://www.who.int/ DXY.cn. Pneumonia. 2020. http://3g.dxy.cn/newh5/view/pneumonia. BNO News: https://bnonews.com/index.php/2020/02/the-latest-coronavirus-cases/ National Health Commission of the People’s Republic of China (NHC): http://www.nhc.gov.cn/xcs/yqtb/list_gzbd.shtml China CDC (CCDC): http://weekly.chinacdc.cn/news/TrackingtheEpidemic.htm Hong Kong Department of Health: https://www.chp.gov.hk/en/features/102465.html Macau Government: https://www.ssm.gov.mo/portal/ Taiwan CDC: https://sites.google.com/cdc.gov.tw/2019ncov/taiwan?authuser=0 US CDC: https://www.cdc.gov/coronavirus/2019-ncov/index.html Government of Canada: https://www.canada.ca/en/public-health/services/diseases/coronavirus.html Australia Government Department of Health: https://www.health.gov.au/news/coronavirus-update-at-a-glance European Centre for Disease Prevention and Control (ECDC): https://www.ecdc.europa.eu/en/geographical-distribution-2019-ncov-cases Ministry of Health Singapore (MOH): https://www.moh.gov.sg/covid-19 Italy Ministry of Health: http://www.salute.gov.it/nuovocoronavirus 1Point3Arces: https://coronavirus.1point3acres.com/en WorldoMeters: https://www.worldometers.info/coronavirus/\n",
        "\n",
        "Additional Information about the Visual Dashboard: https://systems.jhu.edu/research/public-health/ncov/\n",
        "\n",
        "**Contact Me**: \n",
        "sidban@uwalumni.com\n"
      ]
    },
    {
      "cell_type": "markdown",
      "metadata": {
        "id": "Qx-xElTvdSvk",
        "colab_type": "text"
      },
      "source": [
        "# Clone the Git repository\n",
        "\n",
        "---\n",
        "\n",
        "*   Clone code and data repository\n",
        "*   Setup environmental variables"
      ]
    },
    {
      "cell_type": "code",
      "metadata": {
        "id": "jmt92ggNdmYj",
        "colab_type": "code",
        "colab": {}
      },
      "source": [
        "# Clone repository\n",
        "!git clone https://github.com/sidbannet/COVID-19_analysis.git\n",
        "%cd ./COVID-19_analysis\n",
        "!git submodule update --remote\n",
        "!git checkout develop"
      ],
      "execution_count": 0,
      "outputs": []
    },
    {
      "cell_type": "markdown",
      "metadata": {
        "id": "5ljCCd-bd-dX",
        "colab_type": "text"
      },
      "source": [
        "# Load packages\n",
        "---\n",
        "*   Analysis tools\n",
        "*   Plotting tools"
      ]
    },
    {
      "cell_type": "code",
      "metadata": {
        "id": "stO3t_koeEU4",
        "colab_type": "code",
        "colab": {}
      },
      "source": [
        "# Import nessesary modules\n",
        "from tools import collection as cll\n",
        "import plotly.tools as tls\n",
        "from plotly.offline import iplot\n",
        "import plotly.express as px"
      ],
      "execution_count": 0,
      "outputs": []
    },
    {
      "cell_type": "markdown",
      "metadata": {
        "id": "cBp-P3obegs0",
        "colab_type": "text"
      },
      "source": [
        "# Parse data from the database\n",
        "---\n",
        "\n",
        "*   Setup classes containing the data and methods to parse data\n",
        "*   Parse the data\n",
        "\n"
      ]
    },
    {
      "cell_type": "code",
      "metadata": {
        "id": "xWAhrRasfHdw",
        "colab_type": "code",
        "colab": {}
      },
      "source": [
        "# Setup data class and parse the database\n",
        "d = cll.DataClass()\n",
        "try:\n",
        "  d.parse()\n",
        "except FileNotFoundError:\n",
        "  compiled_case_dir = r'compiled_data'\n",
        "  d.conf = cll.pd.read_csv(compiled_case_dir + cll.os.sep +'confirmed_cases', index_col=0)\n",
        "  d.conf_us = cll.pd.read_csv(compiled_case_dir + cll.os.sep +'confirmed_cases_US', index_col=0)\n",
        "  d.dead = cll.pd.read_csv(compiled_case_dir + cll.os.sep +'death_cases', index_col=0)\n",
        "  d.dead_us = cll.pd.read_csv(compiled_case_dir + cll.os.sep +'death_cases_US', index_col=0)\n",
        "  d.recov = cll.pd.read_csv(compiled_case_dir + cll.os.sep +'recovered_cases', index_col=0)\n",
        "  d.recov_us = cll.pd.read_csv(compiled_case_dir + cll.os.sep +'recovered_cases_US', index_col=0)\n",
        "  d.df_global = cll.pd.read_csv(compiled_case_dir + cll.os.sep + 'compiled_data.csv', index_col=0)"
      ],
      "execution_count": 0,
      "outputs": []
    },
    {
      "cell_type": "markdown",
      "metadata": {
        "id": "URVFIiSZv6eF",
        "colab_type": "text"
      },
      "source": [
        "Optional plots to check out the trends by comparing the rate of increase of COVID cases against the total number of COVID cases"
      ]
    },
    {
      "cell_type": "code",
      "metadata": {
        "id": "_T9JCTP8jCnN",
        "colab_type": "code",
        "cellView": "form",
        "colab": {}
      },
      "source": [
        "#@title\n",
        "# Setup figure objects\n",
        "d.__window__ = 5\n",
        "fig, ax = d.plots()\n",
        "[axes.legend() for axes in ax.flat]\n",
        "fig.set_size_inches(w=24, h=12)"
      ],
      "execution_count": 0,
      "outputs": []
    },
    {
      "cell_type": "markdown",
      "metadata": {
        "id": "clYmV2OUz2lS",
        "colab_type": "text"
      },
      "source": [
        "# Plot COVID-19 trends\n",
        "---\n",
        "Plot COVID-19 time series data per country and per state basis with\n",
        "*   Number of confirmed cases\n",
        "*   Number of deaths from COVID\n",
        "*   Number of recovered from COVID\n",
        "\n",
        "Plot these variables in log scale to highlight exponential growth in pandemic against days since initial outbreak."
      ]
    },
    {
      "cell_type": "code",
      "metadata": {
        "id": "CyYoIo7YzMz1",
        "colab_type": "code",
        "colab": {}
      },
      "source": [
        "# Make some meaningful timeseries plots\n",
        "fig, ax = d.plots_timeseries(n_outbreak=500, n_filter_country=10000, n_filter_state=5000)\n",
        "fig.set_size_inches(w=18, h=6)\n",
        "_ = [axes.set_ylim([10, 50000]) for axes in ax[:, 1].flat]\n",
        "_ = ax[0, 0].set_xlim([0, 40])"
      ],
      "execution_count": 0,
      "outputs": []
    },
    {
      "cell_type": "code",
      "metadata": {
        "id": "4I6SzIRJiJg-",
        "colab_type": "code",
        "colab": {}
      },
      "source": [
        "# Convert and plot in plotly\n",
        "plotly_fig = tls.mpl_to_plotly(fig) \n",
        "iplot(plotly_fig)"
      ],
      "execution_count": 0,
      "outputs": []
    },
    {
      "cell_type": "markdown",
      "metadata": {
        "id": "yU1PjjwzOb__",
        "colab_type": "text"
      },
      "source": [
        "# Global spread of COVID-19\n",
        "\n",
        "In this `geoscatter` animation image below, the bubble size represents the reported number of cases with COVID-19. The color of the bubble representes the daily growth rate in the number of cases. The animation frame represents the date starting from Jan 22, 2020."
      ]
    },
    {
      "cell_type": "code",
      "metadata": {
        "id": "db4npO8CNkkn",
        "colab_type": "code",
        "colab": {}
      },
      "source": [
        "fig = px.scatter_geo(d.df_global, locations=\"iso_alpha\", color=\"rate\",\n",
        "                     color_continuous_scale='rainbow', range_color=[1.0, 2.5],\n",
        "                     hover_name=\"country\", size=\"confirmed\",\n",
        "                     animation_frame=\"date\",\n",
        "                     projection=\"natural earth\")\n",
        "fig.show()"
      ],
      "execution_count": 0,
      "outputs": []
    }
  ]
}